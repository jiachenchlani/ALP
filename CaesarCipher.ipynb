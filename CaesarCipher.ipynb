{
 "cells": [
  {
   "cell_type": "code",
   "execution_count": 11,
   "id": "2c703a7c-4db7-401b-bc2f-07de68671586",
   "metadata": {},
   "outputs": [
    {
     "name": "stdout",
     "output_type": "stream",
     "text": [
      "UF UE DMUZUZS AGFEUPQ\n"
     ]
    }
   ],
   "source": [
    "alpha = \"ABCDEFGHIJKLMNOPQRSTUVWXYZ\"\n",
    "\n",
    "def caesar_encode(text, n):\n",
    "    answerList = []\n",
    "    text = text.upper()\n",
    "    for letter in text:\n",
    "        if letter  == \" \":\n",
    "            answerList.append(\" \")\n",
    "            continue\n",
    "        ind = alpha.index(letter)\n",
    "        ind += n\n",
    "        ind %= 26\n",
    "        answerList.append(alpha[ind])\n",
    "    return \"\".join(answerList)\n",
    "\n",
    "def caesar_decode(text, n):\n",
    "    answerList = []\n",
    "    text = text.upper()\n",
    "    for letter in text:\n",
    "        if letter == \" \":\n",
    "            answerList.append(\" \")\n",
    "            continue\n",
    "        ind = alpha.index(letter)\n",
    "        ind -= n\n",
    "        ind %= 26\n",
    "        answerList.append(alpha[ind])\n",
    "    return \"\".join(answerList)\n",
    "\n",
    "print(caesar_encode(\"IT IS RAINING OUTSIDE\", 12))"
   ]
  },
  {
   "cell_type": "code",
   "execution_count": 18,
   "id": "3edbc4ec-702c-47a5-9662-db5e3db16bff",
   "metadata": {
    "scrolled": true
   },
   "outputs": [
    {
     "name": "stdout",
     "output_type": "stream",
     "text": [
      "ZSHHQ XGMJLZ\n",
      "YRGGP WFLIKY\n",
      "XQFFO VEKHJX\n",
      "WPEEN UDJGIW\n",
      "VODDM TCIFHV\n",
      "UNCCL SBHEGU\n",
      "TMBBK RAGDFT\n",
      "SLAAJ QZFCES\n",
      "RKZZI PYEBDR\n",
      "QJYYH OXDACQ\n",
      "PIXXG NWCZBP\n",
      "OHWWF MVBYAO\n",
      "NGVVE LUAXZN\n",
      "MFUUD KTZWYM\n",
      "LETTC JSYVXL\n",
      "KDSSB IRXUWK\n",
      "JCRRA HQWTVJ\n",
      "IBQQZ GPVSUI\n",
      "HAPPY FOURTH\n",
      "GZOOX ENTQSG\n",
      "FYNNW DMSPRF\n",
      "EXMMV CLROQE\n",
      "DWLLU BKQNPD\n",
      "CVKKT AJPMOC\n",
      "BUJJS ZIOLNB\n",
      "ATIIR YHNKMA\n"
     ]
    }
   ],
   "source": [
    "newText = \"ZSHHQ XGMJLZ\"\n",
    "for i in range (0, 26):\n",
    "    print(caesar_decode(newText, i))"
   ]
  },
  {
   "cell_type": "code",
   "execution_count": null,
   "id": "f3f79be7-2efc-4ab5-b339-29f1a64b68d4",
   "metadata": {},
   "outputs": [],
   "source": []
  }
 ],
 "metadata": {
  "kernelspec": {
   "display_name": "Python 3 (ipykernel)",
   "language": "python",
   "name": "python3"
  },
  "language_info": {
   "codemirror_mode": {
    "name": "ipython",
    "version": 3
   },
   "file_extension": ".py",
   "mimetype": "text/x-python",
   "name": "python",
   "nbconvert_exporter": "python",
   "pygments_lexer": "ipython3",
   "version": "3.13.5"
  }
 },
 "nbformat": 4,
 "nbformat_minor": 5
}
